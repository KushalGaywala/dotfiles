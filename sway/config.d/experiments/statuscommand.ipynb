{
 "cells": [
  {
   "cell_type": "code",
   "execution_count": 3,
   "metadata": {},
   "outputs": [],
   "source": [
    "import re\n",
    "import psutil\n",
    "\n",
    "from subprocess import check_output"
   ]
  },
  {
   "cell_type": "code",
   "execution_count": 4,
   "metadata": {},
   "outputs": [],
   "source": [
    "nmcli_output = check_output(\"nmcli device status\", shell=True, encoding=\"utf-8\")"
   ]
  },
  {
   "cell_type": "code",
   "execution_count": 5,
   "metadata": {},
   "outputs": [
    {
     "name": "stdout",
     "output_type": "stream",
     "text": [
      "\u001b[32mVodafone-46EC\u001b[0m\n",
      "None\n"
     ]
    }
   ],
   "source": [
    "print(re.findall(r\".*wlan0.*.wifi.*.connected.*\", nmcli_output)[0].split()[3])\n",
    "print(re.findall(r\".*enp0s20f0u3u3.*.ethernet.*.connected.*\", nmcli_output) or None)"
   ]
  },
  {
   "cell_type": "code",
   "execution_count": 24,
   "metadata": {},
   "outputs": [
    {
     "data": {
      "text/plain": [
       "(3534000, 2126000, 2126000, 60.16)"
      ]
     },
     "execution_count": 24,
     "metadata": {},
     "output_type": "execute_result"
    }
   ],
   "source": [
    "with open(\"/sys/class/power_supply/BAT0/charge_full_design\") as f:\n",
    "    capacity = int(f.read())\n",
    "with open(\"/sys/class/power_supply/BAT0/charge_now\") as f:\n",
    "    current_charge = int(f.read())\n",
    "with open(\"/sys/class/power_supply/BAT0/charge_full\") as f:\n",
    "    current_capacity = int(f.read())\n",
    "\n",
    "capacity, current_charge, current_capacity, round(current_charge * 100 / capacity, 2)"
   ]
  },
  {
   "cell_type": "code",
   "execution_count": 42,
   "metadata": {},
   "outputs": [
    {
     "name": "stdout",
     "output_type": "stream",
     "text": [
      "\u001b[38;2;245;194;231mThis is blue text.\u001b[0m\n",
      "\u001b[38;2;69;71;90mThis is blue text.\u001b[0m\n",
      "\u001b[38;2;30;30;46mThis is blue text.\u001b[0m\n"
     ]
    }
   ],
   "source": [
    "def hex_to_rgb(hex_value):\n",
    "    hex_value = hex_value.lstrip('#')\n",
    "    return f'\\033[38;2;{\";\".join([str(int(hex_value[i:i+2], 16)) for i in (0, 2, 4)])}m'\n",
    "\n",
    "\"\"\"\n",
    "set $surface1  #45475a\n",
    "set $pink      #f5c2e7\n",
    "set $base      #1e1e2e\n",
    "\"\"\"\n",
    "surface1 = \"#45475a\"\n",
    "pink = \"#f5c2e7\"\n",
    "base = \"#1e1e2e\"\n",
    "\n",
    "COLOR_END = '\\033[0m'\n",
    "PINK = hex_to_rgb(pink)\n",
    "SURFACE1 = hex_to_rgb(surface1)\n",
    "BASE = hex_to_rgb(base)\n",
    "\n",
    "# Example usage with hex values\n",
    "print(f\"{PINK}This is pink text.{COLOR_END}\")\n",
    "print(f\"{SURFACE1}This is surface1 text.{COLOR_END}\")\n",
    "print(f\"{BASE}This is base text.{COLOR_END}\")"
   ]
  },
  {
   "cell_type": "code",
   "execution_count": 6,
   "metadata": {},
   "outputs": [
    {
     "name": "stdout",
     "output_type": "stream",
     "text": [
      "sbattery(percent=95.24929444967074, secsleft=<BatteryTime.POWER_TIME_UNLIMITED: -2>, power_plugged=True)\n",
      "[(53.0, 'CPU'), (52.0, 'Ambient'), (49.0, 'Video')]\n"
     ]
    }
   ],
   "source": [
    "print(psutil.sensors_battery())\n",
    "print([(sensor.current, sensor.label) for sensor in psutil.sensors_temperatures()['dell_ddv'] if sensor.label in [\"CPU\", \"Video\", \"Ambient\"]])"
   ]
  },
  {
   "cell_type": "code",
   "execution_count": 9,
   "metadata": {},
   "outputs": [
    {
     "name": "stdout",
     "output_type": "stream",
     "text": [
      "Temperatures: 52.0°C : 49.0°C : 51.0°C | Space: 143.6G | Memory: 8.0G:650.3M (6.4G/15.4G) | Internet: \u001b[32mVodafone-46EC\u001b[0m | Battery: Charging 95% | Date: Feb 25 Sunday 11:54 | kusharchl\n"
     ]
    }
   ],
   "source": [
    "from datetime import datetime\n",
    "from psutil import disk_usage, sensors_battery, virtual_memory, cpu_stats\n",
    "from psutil._common import bytes2human\n",
    "from socket import gethostname, gethostbyname\n",
    "from subprocess import check_output\n",
    "from sys import stdout\n",
    "from time import sleep\n",
    "\n",
    "def write(data):\n",
    "    stdout.write('%s\\n' % data)\n",
    "    stdout.flush()\n",
    "\n",
    "def refresh():\n",
    "    disk = bytes2human(disk_usage('/').free)\n",
    "    memory = virtual_memory()\n",
    "    total_memory = bytes2human(memory.total)\n",
    "    available_memory = bytes2human(memory.available)\n",
    "    used_memory = bytes2human(memory.used)\n",
    "    shared_memory = bytes2human(memory.shared)\n",
    "    memory = f'{available_memory}:{shared_memory} ({used_memory}/{total_memory})'\n",
    "\n",
    "    sensors_temperatures = [(sensor.current, sensor.label) for sensor in psutil.sensors_temperatures()['dell_ddv'] if sensor.label in [\"CPU\", \"Video\", \"Ambient\"]]\n",
    "    cpu_temperatures = ''.join([f'{temp}°C' for temp, label in sensors_temperatures if label == \"CPU\"])\n",
    "    video_temperatures = ''.join([f'{temp}°C' for temp, label in sensors_temperatures if label == \"Video\"])\n",
    "    ambient_temperatures = ''.join([f'{temp}°C' for temp, label in sensors_temperatures if label == \"Ambient\"])\n",
    "\n",
    "    hostname = gethostname()\n",
    "    nmcli = check_output(\"nmcli device status\", shell=True, encoding=\"utf-8\") \n",
    "    wifi = re.findall(r'.*wlan0.*.wifi.*.connected.*', nmcli)[0].split()[3] or None\n",
    "    ethernet = re.findall(r'.*enp0s20f03u3.*.ethernet.*.connected.*', nmcli) or None\n",
    "    internet = None\n",
    "\n",
    "    if ethernet is not None:\n",
    "        internet += 'Ethernet'\n",
    "    if wifi is not None and internet is not None:\n",
    "        internet += f'/{wifi}'\n",
    "    elif wifi is not None and internet is None:\n",
    "        internet = wifi\n",
    "    else:\n",
    "        internet = \"No Internet\"\n",
    "\n",
    "    battery = int(sensors_battery().percent)\n",
    "    status = \"Charging\" if sensors_battery().power_plugged else \"Discharging\"\n",
    "    date = datetime.now().strftime('%h %d %A %H:%M')\n",
    "    write(f'Temperatures: {cpu_temperatures} : {video_temperatures} : {ambient_temperatures} | Space: {disk} | Memory: {memory} | Internet: {internet} | Battery: {status} {battery}% | Date: {date} | {hostname}')\n",
    "\n",
    "refresh()"
   ]
  },
  {
   "cell_type": "code",
   "execution_count": 25,
   "metadata": {},
   "outputs": [
    {
     "name": "stdout",
     "output_type": "stream",
     "text": [
      "\u001b[38;2;69;71;90m53.0°C:50.0°C:52.0°C\u001b[0m \u001b[38;2;245;194;231m|\u001b[0m \u001b[38;2;69;71;90m143.6G\u001b[0m \u001b[38;2;245;194;231m|\u001b[0m \u001b[38;2;69;71;90m7.9G:624.8M (6.5G/15.4G)\u001b[0m \u001b[38;2;245;194;231m|\u001b[0m \u001b[38;2;69;71;90mVodafone-46EC\u001b[0m \u001b[38;2;245;194;231m|\u001b[0m \u001b[38;2;69;71;90mCHARGING 59.14%\u001b[0m \u001b[38;2;245;194;231m|\u001b[0m \u001b[38;2;69;71;90mFeb 25 Sunday 12:06:58\u001b[0m\n"
     ]
    }
   ],
   "source": [
    "import re\n",
    "\n",
    "from datetime import datetime\n",
    "from psutil import disk_usage, sensors_battery, virtual_memory, sensors_temperatures\n",
    "from psutil._common import bytes2human\n",
    "from subprocess import check_output\n",
    "from sys import stdout\n",
    "\n",
    "\n",
    "status_command = []\n",
    "\n",
    "\n",
    "def write(data):\n",
    "    stdout.write('%s\\n' % data)\n",
    "    stdout.flush()\n",
    "\n",
    "\n",
    "def refresh():\n",
    "    disk = bytes2human(disk_usage('/').free)\n",
    "\n",
    "    memory = virtual_memory()\n",
    "    total_memory = bytes2human(memory.total)\n",
    "    available_memory = bytes2human(memory.available)\n",
    "    used_memory = bytes2human(memory.used)\n",
    "    shared_memory = bytes2human(memory.shared)\n",
    "    memory = f'{available_memory}:{shared_memory} ({used_memory}/{total_memory})'\n",
    "\n",
    "    with open(\"/sys/class/power_supply/BAT0/charge_full_design\") as f:\n",
    "        capacity = int(f.read())\n",
    "    with open(\"/sys/class/power_supply/BAT0/charge_now\") as f:\n",
    "        current_charge = int(f.read())\n",
    "    with open(\"/sys/class/power_supply/BAT0/charge_full\") as f:\n",
    "        current_capacity = int(f.read())\n",
    "    capacity, current_charge, current_capacity, round(current_charge * 100 / capacity, 2)\n",
    "    status = None\n",
    "    battery_plugged = sensors_battery().power_plugged\n",
    "    if current_capacity == current_charge and battery_plugged:\n",
    "        status = \"FULL PLUGGED\"\n",
    "    elif current_capacity == current_charge and not battery_plugged:\n",
    "        status = \"FULL\"\n",
    "    elif current_charge * 100 / current_capacity < 20 and not battery_plugged:\n",
    "        status = \"LOW\"\n",
    "    elif current_charge * 100 / current_capacity < 20 and battery_plugged:\n",
    "        status = \"LOW CHARGING\"\n",
    "    elif battery_plugged:\n",
    "        status = \"CHARGING\"\n",
    "    else:\n",
    "        status = \"DISCHARGING\"\n",
    "    battery = round(current_charge * 100 / capacity, 2)\n",
    "\n",
    "    sensor_temperatures = [(sensor.current, sensor.label) for sensor in sensors_temperatures()['dell_ddv'] if sensor.label in [\"CPU\", \"Video\", \"Ambient\"]]\n",
    "    cpu_temperatures = ''.join([f'{temp}°C' for temp, label in sensor_temperatures if label == \"CPU\"])\n",
    "    video_temperatures = ''.join([f'{temp}°C' for temp, label in sensor_temperatures if label == \"Video\"])\n",
    "    ambient_temperatures = ''.join([f'{temp}°C' for temp, label in sensor_temperatures if label == \"Ambient\"])\n",
    "\n",
    "    nmcli = check_output(\"nmcli device status\", shell=True, encoding=\"utf-8\") \n",
    "    wifi = re.findall(r'.*wlan0.*.wifi.*.connected.*', nmcli)[0].split()[3] or None\n",
    "    ethernet = re.findall(r'.*enp0s20f03u3.*.ethernet.*.connected.*', nmcli) or None\n",
    "    internet = None\n",
    "\n",
    "    if ethernet is not None:\n",
    "        internet += 'Ethernet'\n",
    "    if wifi is not None and internet is not None:\n",
    "        internet += f'/{wifi}'\n",
    "    elif wifi is not None and internet is None:\n",
    "        internet = wifi\n",
    "    else:\n",
    "        internet = \"No Internet\"\n",
    "    internet = remove_ansi_escape(internet)\n",
    "\n",
    "    date = datetime.now().strftime('%h %d %A %H:%M:%S')\n",
    "\n",
    "\n",
    "    # Theme\n",
    "    SURFACE1, PINK, BASE = get_colors()\n",
    "    # END = \"</span>\"\n",
    "    END = \"\\033[0m\"\n",
    "    SEPERATOR = f' {PINK}|{END} '\n",
    "    write(f'{SURFACE1}{cpu_temperatures}:{video_temperatures}:{ambient_temperatures}{END}{SEPERATOR}{SURFACE1}{disk}{END}{SEPERATOR}{SURFACE1}{memory}{END}{SEPERATOR}{SURFACE1}{internet}{END}{SEPERATOR}{SURFACE1}{status} {battery}%{END}{SEPERATOR}{SURFACE1}{date}{END}')\n",
    "\n",
    "\n",
    "def hex_to_rgb(hex):\n",
    "    hex_value = hex.lstrip('#')\n",
    "    return f'\\033[38;2;{\";\".join([str(int(hex_value[i:i+2], 16)) for i in (0, 2, 4)])}m'\n",
    "\n",
    "\n",
    "def remove_ansi_escape(string_with_ansi):\n",
    "    ansi_escape = re.compile(r'\\x1b\\[[0-9;]*[mK]')  # Match ANSI escape codes\n",
    "    return ansi_escape.sub('', string_with_ansi)\n",
    "\n",
    "\n",
    "def get_colors():\n",
    "    surface1 = hex_to_rgb(\"#45475a\")\n",
    "    pink = hex_to_rgb(\"#f5c2e7\")\n",
    "    base = hex_to_rgb(\"#1e1e2e\")\n",
    "    # surface1 = hex_to_pango_color(\"#45475a\")\n",
    "    # pink = hex_to_pango_color(\"#f5c2e7\")\n",
    "    # base = hex_to_pango_color(\"#1e1e2e\")\n",
    "    return surface1, pink, base\n",
    "\n",
    "refresh()"
   ]
  },
  {
   "cell_type": "code",
   "execution_count": 7,
   "metadata": {},
   "outputs": [
    {
     "data": {
      "text/plain": [
       "'\\nnmcli device status\\n--------------------\\n➜ nmcli device status\\nDEVICE           TYPE      STATE                   CONNECTION\\nwlan0            wifi      connected               Vodafone-46EC\\nlo               loopback  connected (externally)  lo\\nbr-5eac55d4d58a  bridge    connected (externally)  br-5eac55d4d58a\\nbr-9bc02d4402a8  bridge    connected (externally)  br-9bc02d4402a8\\ndocker0          bridge    connected (externally)  docker0\\np2p-dev-wlan0    wifi-p2p  disconnected            --\\nenp0s20f0u3u3    ethernet  unavailable             --\\n\\nFor WIFI\\n------------\\nGENERAL.DEVICE:                         wlan0\\nGENERAL.TYPE:                           wifi\\nGENERAL.HWADDR:                         18:47:3D:1A:04:85\\nGENERAL.MTU:                            1500\\nGENERAL.STATE:                          100 (connected)\\nGENERAL.CONNECTION:                     Vodafone-46EC\\nGENERAL.CON-PATH:                       /org/freedesktop/NetworkManager/ActiveConnection/5\\nIP4.ADDRESS[1]:                         192.168.0.15/24\\nIP4.GATEWAY:                            192.168.0.1\\nIP4.ROUTE[1]:                           dst = 192.168.0.0/24, nh = 0.0.0.0, mt = 600\\nIP4.ROUTE[2]:                           dst = 0.0.0.0/0, nh = 192.168.0.1, mt = 600\\nIP4.DNS[1]:                             192.168.0.1\\nIP6.GATEWAY:                            --\\n\\nFor ethernet\\n------------\\nGENERAL.DEVICE:                         enp0s20f0u3u3\\nGENERAL.TYPE:                           ethernet\\nGENERAL.HWADDR:                         00:E0:4C:36:1A:91\\nGENERAL.MTU:                            1500\\nGENERAL.STATE:                          20 (unavailable)\\nGENERAL.CONNECTION:                     --\\nGENERAL.CON-PATH:                       --\\nWIRED-PROPERTIES.CARRIER:               off\\nIP4.GATEWAY:                            --\\nIP6.GATEWAY:                            --\\n'"
      ]
     },
     "execution_count": 7,
     "metadata": {},
     "output_type": "execute_result"
    }
   ],
   "source": [
    "\"\"\"\n",
    "nmcli device status\n",
    "--------------------\n",
    "➜ nmcli device status\n",
    "DEVICE           TYPE      STATE                   CONNECTION\n",
    "wlan0            wifi      connected               Vodafone-46EC\n",
    "lo               loopback  connected (externally)  lo\n",
    "br-5eac55d4d58a  bridge    connected (externally)  br-5eac55d4d58a\n",
    "br-9bc02d4402a8  bridge    connected (externally)  br-9bc02d4402a8\n",
    "docker0          bridge    connected (externally)  docker0\n",
    "p2p-dev-wlan0    wifi-p2p  disconnected            --\n",
    "enp0s20f0u3u3    ethernet  unavailable             --\n",
    "\n",
    "For WIFI\n",
    "------------\n",
    "GENERAL.DEVICE:                         wlan0\n",
    "GENERAL.TYPE:                           wifi\n",
    "GENERAL.HWADDR:                         18:47:3D:1A:04:85\n",
    "GENERAL.MTU:                            1500\n",
    "GENERAL.STATE:                          100 (connected)\n",
    "GENERAL.CONNECTION:                     Vodafone-46EC\n",
    "GENERAL.CON-PATH:                       /org/freedesktop/NetworkManager/ActiveConnection/5\n",
    "IP4.ADDRESS[1]:                         192.168.0.15/24\n",
    "IP4.GATEWAY:                            192.168.0.1\n",
    "IP4.ROUTE[1]:                           dst = 192.168.0.0/24, nh = 0.0.0.0, mt = 600\n",
    "IP4.ROUTE[2]:                           dst = 0.0.0.0/0, nh = 192.168.0.1, mt = 600\n",
    "IP4.DNS[1]:                             192.168.0.1\n",
    "IP6.GATEWAY:                            --\n",
    "\n",
    "For ethernet\n",
    "------------\n",
    "GENERAL.DEVICE:                         enp0s20f0u3u3\n",
    "GENERAL.TYPE:                           ethernet\n",
    "GENERAL.HWADDR:                         00:E0:4C:36:1A:91\n",
    "GENERAL.MTU:                            1500\n",
    "GENERAL.STATE:                          20 (unavailable)\n",
    "GENERAL.CONNECTION:                     --\n",
    "GENERAL.CON-PATH:                       --\n",
    "WIRED-PROPERTIES.CARRIER:               off\n",
    "IP4.GATEWAY:                            --\n",
    "IP6.GATEWAY:                            --\n",
    "\"\"\""
   ]
  }
 ],
 "metadata": {
  "kernelspec": {
   "display_name": "global.env",
   "language": "python",
   "name": "python3"
  },
  "language_info": {
   "codemirror_mode": {
    "name": "ipython",
    "version": 3
   },
   "file_extension": ".py",
   "mimetype": "text/x-python",
   "name": "python",
   "nbconvert_exporter": "python",
   "pygments_lexer": "ipython3",
   "version": "3.11.7"
  }
 },
 "nbformat": 4,
 "nbformat_minor": 2
}
